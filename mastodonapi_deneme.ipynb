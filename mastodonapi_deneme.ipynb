{
 "cells": [
  {
   "cell_type": "code",
   "execution_count": 1,
   "metadata": {},
   "outputs": [
    {
     "data": {
      "text/plain": [
       "('anz4wz5Nh397OixQAudqjmrXxfAlSmmiJeZziyFiXoc',\n",
       " '63aRLqHhm0jt9YRNDc5LgyFlLN4J6QZ2MZLH3q3iYOM')"
      ]
     },
     "execution_count": 1,
     "metadata": {},
     "output_type": "execute_result"
    }
   ],
   "source": [
    "# Register your app! This only needs to be done once. Uncomment the code and substitute in your information.\n",
    "\n",
    "from mastodon import Mastodon\n",
    "\n",
    "\n",
    "Mastodon.create_app('PURE',api_base_url = 'https://dogukankefeli.tech',to_file = 'pytooter_clientcred.secret')"
   ]
  },
  {
   "cell_type": "code",
   "execution_count": 33,
   "metadata": {},
   "outputs": [
    {
     "data": {
      "text/plain": [
       "'ubn7ZY7JLizuBNcSFIwptjQjB9sqpbvB1KICYp-J7fk'"
      ]
     },
     "execution_count": 33,
     "metadata": {},
     "output_type": "execute_result"
    }
   ],
   "source": [
    "# Then login. This can be done every time, or use persisted.\n",
    "\n",
    "from mastodon import Mastodon\n",
    "\n",
    "mastodon = Mastodon(\n",
    "    client_id = 'pytooter_clientcred.secret',\n",
    "    api_base_url = 'https://dogukankefeli.tech'\n",
    ")\n",
    "mastodon.log_in(\n",
    "    'dogukankefeli@gmail.com',\n",
    "    '9a65202322deed907dd86175d27aa66c',\n",
    "    to_file = 'pytooter_usercred.secret'\n",
    ")"
   ]
  },
  {
   "cell_type": "code",
   "execution_count": null,
   "metadata": {},
   "outputs": [],
   "source": [
    "# To post, create an actual API instance.\n",
    "\n",
    "from mastodon import Mastodon\n",
    "\n",
    "mastodon = Mastodon(\n",
    "    access_token = 'pytooter_usercred.secret',\n",
    "    api_base_url = 'https://dogukankefeli.tech'\n",
    ")\n",
    "#mastodon.toot('Tooting from python using #mastodonpy !')"
   ]
  },
  {
   "cell_type": "code",
   "execution_count": 3,
   "metadata": {},
   "outputs": [
    {
     "data": {
      "text/plain": [
       "{'uri': 'dogukankefeli.tech',\n",
       " 'title': 'Mastodon',\n",
       " 'short_description': '',\n",
       " 'description': '',\n",
       " 'email': '',\n",
       " 'version': '3.4.1',\n",
       " 'urls': {'streaming_api': 'wss://dogukankefeli.tech'},\n",
       " 'stats': {'user_count': 4, 'status_count': 94, 'domain_count': 0},\n",
       " 'thumbnail': 'https://dogukankefeli.tech/packs/media/images/preview-5df98290371ead9a70bc3cd4733bbfa7.jpg',\n",
       " 'languages': ['en'],\n",
       " 'registrations': True,\n",
       " 'approval_required': False,\n",
       " 'invites_enabled': False,\n",
       " 'contact_account': None,\n",
       " 'rules': [{'id': 1,\n",
       "   'text': 'First rule of this server is that you do not talk about this server'}]}"
      ]
     },
     "execution_count": 3,
     "metadata": {},
     "output_type": "execute_result"
    }
   ],
   "source": [
    "mastodon.instance()"
   ]
  },
  {
   "cell_type": "code",
   "execution_count": 11,
   "metadata": {},
   "outputs": [],
   "source": [
    "timeline = mastodon.timeline()"
   ]
  },
  {
   "cell_type": "code",
   "execution_count": 12,
   "metadata": {},
   "outputs": [
    {
     "data": {
      "text/plain": [
       "{'id': 106612608151913044,\n",
       " 'created_at': datetime.datetime(2021, 7, 20, 11, 8, 19, 194000, tzinfo=tzutc()),\n",
       " 'in_reply_to_id': None,\n",
       " 'in_reply_to_account_id': None,\n",
       " 'sensitive': False,\n",
       " 'spoiler_text': '',\n",
       " 'visibility': 'public',\n",
       " 'language': 'en',\n",
       " 'uri': 'https://dogukankefeli.tech/users/dogukan/statuses/106612608151913044',\n",
       " 'url': 'https://dogukankefeli.tech/@dogukan/106612608151913044',\n",
       " 'replies_count': 0,\n",
       " 'reblogs_count': 0,\n",
       " 'favourites_count': 0,\n",
       " 'favourited': False,\n",
       " 'reblogged': False,\n",
       " 'muted': False,\n",
       " 'bookmarked': False,\n",
       " 'pinned': False,\n",
       " 'content': '<p>amongst the rushes. Her head was ringing. Ser Meryn Trant stood over her, with  blood on the knuckles of his white silk glove.  ﬁWill you obey now, or shall I ha</p>',\n",
       " 'reblog': None,\n",
       " 'application': {'name': 'jeren', 'website': None},\n",
       " 'account': {'id': 106583899443221535,\n",
       "  'username': 'dogukan',\n",
       "  'acct': 'dogukan',\n",
       "  'display_name': '',\n",
       "  'locked': False,\n",
       "  'bot': False,\n",
       "  'discoverable': None,\n",
       "  'group': False,\n",
       "  'created_at': datetime.datetime(2021, 7, 15, 0, 0, tzinfo=tzutc()),\n",
       "  'note': '<p></p>',\n",
       "  'url': 'https://dogukankefeli.tech/@dogukan',\n",
       "  'avatar': 'https://dogukankefeli.tech/avatars/original/missing.png',\n",
       "  'avatar_static': 'https://dogukankefeli.tech/avatars/original/missing.png',\n",
       "  'header': 'https://dogukankefeli.tech/headers/original/missing.png',\n",
       "  'header_static': 'https://dogukankefeli.tech/headers/original/missing.png',\n",
       "  'followers_count': 3,\n",
       "  'following_count': 1,\n",
       "  'statuses_count': 48,\n",
       "  'last_status_at': datetime.datetime(2021, 7, 20, 0, 0),\n",
       "  'emojis': [],\n",
       "  'fields': []},\n",
       " 'media_attachments': [],\n",
       " 'mentions': [],\n",
       " 'tags': [],\n",
       " 'emojis': [],\n",
       " 'card': None,\n",
       " 'poll': None}"
      ]
     },
     "execution_count": 12,
     "metadata": {},
     "output_type": "execute_result"
    }
   ],
   "source": [
    "timeline[0]"
   ]
  },
  {
   "cell_type": "code",
   "execution_count": 46,
   "metadata": {},
   "outputs": [],
   "source": [
    "import numpy as np\n",
    "import pandas as pd"
   ]
  },
  {
   "cell_type": "code",
   "execution_count": 51,
   "metadata": {},
   "outputs": [],
   "source": [
    "def follow_df():\n",
    "    timeline = mastodon.timeline(limit=200)\n",
    "    user = {}\n",
    "    for toot in timeline:\n",
    "        user[toot['account']['id']] = toot['account']['username']\n",
    "    \n",
    "    source = [] #users\n",
    "    target = [] #followers\n",
    "    \n",
    "    for key, value in user.items():\n",
    "        u_follower = mastodon.account_followers(key)\n",
    "        for k in u_follower:\n",
    "            source.append(value)\n",
    "            target.append(k['username'])\n",
    "    df = pd.DataFrame()\n",
    "    df['Source'] = source\n",
    "    df['Target'] = target\n",
    "    df['Weight'] = 1\n",
    "    return df\n",
    "\n"
   ]
  },
  {
   "cell_type": "code",
   "execution_count": 43,
   "metadata": {},
   "outputs": [
    {
     "name": "stdout",
     "output_type": "stream",
     "text": [
      "['admin', 'jeren', 'jeren', 'dogukan', 'dogukan', 'dogukan', 'onur', 'onur', 'onur'] ['jeren', 'onur', 'admin', 'onur', 'jeren', 'admin', 'jeren', 'dogukan', 'admin']\n"
     ]
    }
   ],
   "source": []
  },
  {
   "cell_type": "code",
   "execution_count": 50,
   "metadata": {},
   "outputs": [
    {
     "data": {
      "text/html": [
       "<div>\n",
       "<style scoped>\n",
       "    .dataframe tbody tr th:only-of-type {\n",
       "        vertical-align: middle;\n",
       "    }\n",
       "\n",
       "    .dataframe tbody tr th {\n",
       "        vertical-align: top;\n",
       "    }\n",
       "\n",
       "    .dataframe thead th {\n",
       "        text-align: right;\n",
       "    }\n",
       "</style>\n",
       "<table border=\"1\" class=\"dataframe\">\n",
       "  <thead>\n",
       "    <tr style=\"text-align: right;\">\n",
       "      <th></th>\n",
       "      <th>Source</th>\n",
       "      <th>Target</th>\n",
       "      <th>Weight</th>\n",
       "    </tr>\n",
       "  </thead>\n",
       "  <tbody>\n",
       "    <tr>\n",
       "      <th>0</th>\n",
       "      <td>admin</td>\n",
       "      <td>onur</td>\n",
       "      <td>1</td>\n",
       "    </tr>\n",
       "    <tr>\n",
       "      <th>1</th>\n",
       "      <td>admin</td>\n",
       "      <td>dogukan</td>\n",
       "      <td>1</td>\n",
       "    </tr>\n",
       "    <tr>\n",
       "      <th>2</th>\n",
       "      <td>admin</td>\n",
       "      <td>jeren</td>\n",
       "      <td>1</td>\n",
       "    </tr>\n",
       "    <tr>\n",
       "      <th>3</th>\n",
       "      <td>jeren</td>\n",
       "      <td>onur</td>\n",
       "      <td>1</td>\n",
       "    </tr>\n",
       "    <tr>\n",
       "      <th>4</th>\n",
       "      <td>jeren</td>\n",
       "      <td>admin</td>\n",
       "      <td>1</td>\n",
       "    </tr>\n",
       "    <tr>\n",
       "      <th>5</th>\n",
       "      <td>jeren</td>\n",
       "      <td>dogukan</td>\n",
       "      <td>1</td>\n",
       "    </tr>\n",
       "    <tr>\n",
       "      <th>6</th>\n",
       "      <td>dogukan</td>\n",
       "      <td>onur</td>\n",
       "      <td>1</td>\n",
       "    </tr>\n",
       "    <tr>\n",
       "      <th>7</th>\n",
       "      <td>onur</td>\n",
       "      <td>dogukan</td>\n",
       "      <td>1</td>\n",
       "    </tr>\n",
       "    <tr>\n",
       "      <th>8</th>\n",
       "      <td>onur</td>\n",
       "      <td>jeren</td>\n",
       "      <td>1</td>\n",
       "    </tr>\n",
       "  </tbody>\n",
       "</table>\n",
       "</div>"
      ],
      "text/plain": [
       "    Source   Target  Weight\n",
       "0    admin     onur       1\n",
       "1    admin  dogukan       1\n",
       "2    admin    jeren       1\n",
       "3    jeren     onur       1\n",
       "4    jeren    admin       1\n",
       "5    jeren  dogukan       1\n",
       "6  dogukan     onur       1\n",
       "7     onur  dogukan       1\n",
       "8     onur    jeren       1"
      ]
     },
     "execution_count": 50,
     "metadata": {},
     "output_type": "execute_result"
    }
   ],
   "source": [
    "df = pd.DataFrame()\n",
    "df['Source'] = source\n",
    "df['Target'] = target\n",
    "df['Weight'] = 1\n",
    "df"
   ]
  },
  {
   "cell_type": "code",
   "execution_count": 44,
   "metadata": {},
   "outputs": [
    {
     "name": "stdout",
     "output_type": "stream",
     "text": [
      "['admin', 'admin', 'admin', 'jeren', 'jeren', 'jeren', 'dogukan', 'onur', 'onur'] ['onur', 'dogukan', 'jeren', 'onur', 'admin', 'dogukan', 'onur', 'dogukan', 'jeren']\n"
     ]
    }
   ],
   "source": [
    "source = [] #users\n",
    "target = [] #following\n",
    "for key, value in user.items():\n",
    "    u_following = mastodon.account_following(key)\n",
    "    for k in u_following:\n",
    "        source.append(value)\n",
    "        target.append(k['username'])\n",
    "print(source, target)   "
   ]
  },
  {
   "cell_type": "code",
   "execution_count": null,
   "metadata": {},
   "outputs": [],
   "source": [
    "timeline = mastodon.timeline()\n",
    "user = []\n",
    "for i in range(len(timeline)):\n",
    "    user.append(timeline[i]['account']['id'])\n",
    "    \n",
    "self.unique = np.unique(user)"
   ]
  },
  {
   "cell_type": "markdown",
   "metadata": {},
   "source": []
  },
  {
   "cell_type": "code",
   "execution_count": 4,
   "metadata": {},
   "outputs": [
    {
     "data": {
      "text/plain": [
       "{'id': 106583899443221535,\n",
       " 'username': 'dogukan',\n",
       " 'acct': 'dogukan',\n",
       " 'display_name': '',\n",
       " 'locked': False,\n",
       " 'bot': False,\n",
       " 'discoverable': None,\n",
       " 'group': False,\n",
       " 'created_at': datetime.datetime(2021, 7, 15, 0, 0, tzinfo=tzutc()),\n",
       " 'note': '<p></p>',\n",
       " 'url': 'https://dogukankefeli.tech/@dogukan',\n",
       " 'avatar': 'https://dogukankefeli.tech/avatars/original/missing.png',\n",
       " 'avatar_static': 'https://dogukankefeli.tech/avatars/original/missing.png',\n",
       " 'header': 'https://dogukankefeli.tech/headers/original/missing.png',\n",
       " 'header_static': 'https://dogukankefeli.tech/headers/original/missing.png',\n",
       " 'followers_count': 3,\n",
       " 'following_count': 1,\n",
       " 'statuses_count': 48,\n",
       " 'last_status_at': datetime.datetime(2021, 7, 20, 0, 0),\n",
       " 'source': {'privacy': 'public',\n",
       "  'sensitive': False,\n",
       "  'language': None,\n",
       "  'note': '',\n",
       "  'fields': [],\n",
       "  'follow_requests_count': 0},\n",
       " 'emojis': [],\n",
       " 'fields': []}"
      ]
     },
     "execution_count": 4,
     "metadata": {},
     "output_type": "execute_result"
    }
   ],
   "source": [
    "mastodon.account_verify_credentials()"
   ]
  },
  {
   "cell_type": "code",
   "execution_count": null,
   "metadata": {},
   "outputs": [],
   "source": []
  },
  {
   "cell_type": "code",
   "execution_count": null,
   "metadata": {},
   "outputs": [],
   "source": [
    "mastodon.account_following()"
   ]
  },
  {
   "cell_type": "code",
   "execution_count": null,
   "metadata": {},
   "outputs": [],
   "source": [
    "mastodon.account_statuses(106544680580142262)"
   ]
  },
  {
   "cell_type": "code",
   "execution_count": null,
   "metadata": {},
   "outputs": [],
   "source": [
    "from mastodon_api import Pure"
   ]
  },
  {
   "cell_type": "code",
   "execution_count": null,
   "metadata": {},
   "outputs": [],
   "source": [
    "obj = Pure()"
   ]
  },
  {
   "cell_type": "code",
   "execution_count": null,
   "metadata": {},
   "outputs": [],
   "source": [
    "id1 = obj.get_user_id('jeren')"
   ]
  },
  {
   "cell_type": "code",
   "execution_count": null,
   "metadata": {},
   "outputs": [],
   "source": [
    "df2 = obj.get_user_toots(id1)\n",
    "df2"
   ]
  },
  {
   "cell_type": "code",
   "execution_count": null,
   "metadata": {},
   "outputs": [],
   "source": [
    "mastodon.account_relationships(106583899443221535)"
   ]
  },
  {
   "cell_type": "code",
   "execution_count": null,
   "metadata": {},
   "outputs": [],
   "source": [
    "mastodon.ratelimit_remaining"
   ]
  },
  {
   "cell_type": "code",
   "execution_count": null,
   "metadata": {},
   "outputs": [],
   "source": [
    "mastodon.ratelimit_reset"
   ]
  },
  {
   "cell_type": "code",
   "execution_count": null,
   "metadata": {},
   "outputs": [],
   "source": [
    "mastodon.ratelimit_limit"
   ]
  },
  {
   "cell_type": "code",
   "execution_count": null,
   "metadata": {},
   "outputs": [],
   "source": []
  }
 ],
 "metadata": {
  "kernelspec": {
   "display_name": "Python 3",
   "language": "python",
   "name": "python3"
  },
  "language_info": {
   "codemirror_mode": {
    "name": "ipython",
    "version": 3
   },
   "file_extension": ".py",
   "mimetype": "text/x-python",
   "name": "python",
   "nbconvert_exporter": "python",
   "pygments_lexer": "ipython3",
   "version": "3.9.1"
  }
 },
 "nbformat": 4,
 "nbformat_minor": 4
}
