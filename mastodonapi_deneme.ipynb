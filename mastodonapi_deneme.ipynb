{
 "cells": [
  {
   "cell_type": "code",
   "execution_count": 39,
   "source": [
    "# Register your app! This only needs to be done once. Uncomment the code and substitute in your information.\n",
    "\n",
    "from mastodon import Mastodon\n",
    "\n",
    "\n",
    "Mastodon.create_app('PURE',api_base_url = 'https://dogukankefeli.tech',to_file = 'pytooter_clientcred.secret')"
   ],
   "outputs": [
    {
     "output_type": "execute_result",
     "data": {
      "text/plain": [
       "('75kUFbcQaEkB_8Wz97Xv9ekZ8SlrBqX_MRmK16fECKI',\n",
       " 'LGqKt2Z1GONQ3pAcyh1D__UErOvamrKXYZQEHdtC-ik')"
      ]
     },
     "metadata": {},
     "execution_count": 39
    }
   ],
   "metadata": {}
  },
  {
   "cell_type": "code",
   "execution_count": 1,
   "source": [
    "# Then login. This can be done every time, or use persisted.\n",
    "\n",
    "from mastodon import Mastodon\n",
    "\n",
    "mastodon = Mastodon(\n",
    "    client_id = 'pytooter_clientcred.secret',\n",
    "    api_base_url = 'https://dogukankefeli.tech'\n",
    ")\n",
    "mastodon.log_in(\n",
    "    'dogukankefeli@protonmail.com',\n",
    "    '20bad20e27a864a705234e4839fb77c1',\n",
    "    to_file = 'pytooter_usercred.secret'\n",
    ")"
   ],
   "outputs": [
    {
     "output_type": "execute_result",
     "data": {
      "text/plain": [
       "'K8kxx-zx3hE6lP2nAcvlmWnvMJ08Y2lXLmMppwLCyX0'"
      ]
     },
     "metadata": {},
     "execution_count": 1
    }
   ],
   "metadata": {}
  },
  {
   "cell_type": "code",
   "execution_count": 3,
   "source": [
    "# To post, create an actual API instance.\r\n",
    "\r\n",
    "from mastodon import Mastodon\r\n",
    "\r\n",
    "mastodon = Mastodon(\r\n",
    "    access_token = 'pytooter_usercred.secret',\r\n",
    "    api_base_url = 'https://dogukankefeli.tech'\r\n",
    ")\r\n",
    "mastodon.toot('Tooting from python using #mastodonpy !')"
   ],
   "outputs": [
    {
     "output_type": "execute_result",
     "data": {
      "text/plain": [
       "{'id': 106590789265890515,\n",
       " 'created_at': datetime.datetime(2021, 7, 16, 14, 39, 29, 425000, tzinfo=tzutc()),\n",
       " 'in_reply_to_id': None,\n",
       " 'in_reply_to_account_id': None,\n",
       " 'sensitive': False,\n",
       " 'spoiler_text': '',\n",
       " 'visibility': 'public',\n",
       " 'language': 'en',\n",
       " 'uri': 'https://dogukankefeli.tech/users/dogukan/statuses/106590789265890515',\n",
       " 'url': 'https://dogukankefeli.tech/@dogukan/106590789265890515',\n",
       " 'replies_count': 0,\n",
       " 'reblogs_count': 0,\n",
       " 'favourites_count': 0,\n",
       " 'favourited': False,\n",
       " 'reblogged': False,\n",
       " 'muted': False,\n",
       " 'bookmarked': False,\n",
       " 'pinned': False,\n",
       " 'content': '<p>Tooting from python using <a href=\"https://dogukankefeli.tech/tags/mastodonpy\" class=\"mention hashtag\" rel=\"tag\">#<span>mastodonpy</span></a> !</p>',\n",
       " 'reblog': None,\n",
       " 'application': {'name': 'pytooterapp', 'website': None},\n",
       " 'account': {'id': 106583899443221535,\n",
       "  'username': 'dogukan',\n",
       "  'acct': 'dogukan',\n",
       "  'display_name': '',\n",
       "  'locked': False,\n",
       "  'bot': False,\n",
       "  'discoverable': None,\n",
       "  'group': False,\n",
       "  'created_at': datetime.datetime(2021, 7, 15, 0, 0, tzinfo=tzutc()),\n",
       "  'note': '<p></p>',\n",
       "  'url': 'https://dogukankefeli.tech/@dogukan',\n",
       "  'avatar': 'https://dogukankefeli.tech/avatars/original/missing.png',\n",
       "  'avatar_static': 'https://dogukankefeli.tech/avatars/original/missing.png',\n",
       "  'header': 'https://dogukankefeli.tech/headers/original/missing.png',\n",
       "  'header_static': 'https://dogukankefeli.tech/headers/original/missing.png',\n",
       "  'followers_count': 3,\n",
       "  'following_count': 0,\n",
       "  'statuses_count': 2,\n",
       "  'last_status_at': datetime.datetime(2021, 7, 16, 0, 0),\n",
       "  'emojis': [],\n",
       "  'fields': []},\n",
       " 'media_attachments': [],\n",
       " 'mentions': [],\n",
       " 'tags': [{'name': 'mastodonpy',\n",
       "   'url': 'https://dogukankefeli.tech/tags/mastodonpy'}],\n",
       " 'emojis': [],\n",
       " 'card': None,\n",
       " 'poll': None}"
      ]
     },
     "metadata": {},
     "execution_count": 3
    }
   ],
   "metadata": {}
  },
  {
   "cell_type": "code",
   "execution_count": 21,
   "source": [
    "mastodon.account_relationships(106583899443221535)"
   ],
   "outputs": [
    {
     "output_type": "execute_result",
     "data": {
      "text/plain": [
       "[{'id': 106583899443221535,\n",
       "  'following': False,\n",
       "  'showing_reblogs': False,\n",
       "  'notifying': False,\n",
       "  'followed_by': False,\n",
       "  'blocking': False,\n",
       "  'blocked_by': False,\n",
       "  'muting': False,\n",
       "  'muting_notifications': False,\n",
       "  'requested': False,\n",
       "  'domain_blocking': False,\n",
       "  'endorsed': False,\n",
       "  'note': ''}]"
      ]
     },
     "metadata": {},
     "execution_count": 21
    }
   ],
   "metadata": {}
  },
  {
   "cell_type": "code",
   "execution_count": 10,
   "source": [
    "js = mastodon.account_followers(id=106583899443221535)"
   ],
   "outputs": [],
   "metadata": {}
  },
  {
   "cell_type": "code",
   "execution_count": 22,
   "source": [
    "js"
   ],
   "outputs": [
    {
     "output_type": "execute_result",
     "data": {
      "text/plain": [
       "[{'id': 106584296200627353,\n",
       "  'username': 'onur',\n",
       "  'acct': 'onur',\n",
       "  'display_name': 'Onur',\n",
       "  'locked': False,\n",
       "  'bot': False,\n",
       "  'discoverable': False,\n",
       "  'group': False,\n",
       "  'created_at': datetime.datetime(2021, 7, 15, 0, 0, tzinfo=tzutc()),\n",
       "  'note': '<p></p>',\n",
       "  'url': 'https://dogukankefeli.tech/@onur',\n",
       "  'avatar': 'https://dogukankefeli.tech/avatars/original/missing.png',\n",
       "  'avatar_static': 'https://dogukankefeli.tech/avatars/original/missing.png',\n",
       "  'header': 'https://dogukankefeli.tech/headers/original/missing.png',\n",
       "  'header_static': 'https://dogukankefeli.tech/headers/original/missing.png',\n",
       "  'followers_count': 1,\n",
       "  'following_count': 2,\n",
       "  'statuses_count': 1,\n",
       "  'last_status_at': datetime.datetime(2021, 7, 15, 0, 0),\n",
       "  'emojis': [],\n",
       "  'fields': []},\n",
       " {'id': 106584000819366607,\n",
       "  'username': 'jeren',\n",
       "  'acct': 'jeren',\n",
       "  'display_name': '',\n",
       "  'locked': False,\n",
       "  'bot': False,\n",
       "  'discoverable': False,\n",
       "  'group': False,\n",
       "  'created_at': datetime.datetime(2021, 7, 15, 0, 0, tzinfo=tzutc()),\n",
       "  'note': '<p></p>',\n",
       "  'url': 'https://dogukankefeli.tech/@jeren',\n",
       "  'avatar': 'https://dogukankefeli.tech/avatars/original/missing.png',\n",
       "  'avatar_static': 'https://dogukankefeli.tech/avatars/original/missing.png',\n",
       "  'header': 'https://dogukankefeli.tech/headers/original/missing.png',\n",
       "  'header_static': 'https://dogukankefeli.tech/headers/original/missing.png',\n",
       "  'followers_count': 2,\n",
       "  'following_count': 1,\n",
       "  'statuses_count': 4,\n",
       "  'last_status_at': datetime.datetime(2021, 7, 15, 0, 0),\n",
       "  'emojis': [],\n",
       "  'fields': []},\n",
       " {'id': 106544680580142262,\n",
       "  'username': 'admin',\n",
       "  'acct': 'admin',\n",
       "  'display_name': '',\n",
       "  'locked': True,\n",
       "  'bot': False,\n",
       "  'discoverable': False,\n",
       "  'group': False,\n",
       "  'created_at': datetime.datetime(2021, 7, 8, 0, 0, tzinfo=tzutc()),\n",
       "  'note': '<p></p>',\n",
       "  'url': 'https://dogukankefeli.tech/@admin',\n",
       "  'avatar': 'https://dogukankefeli.tech/avatars/original/missing.png',\n",
       "  'avatar_static': 'https://dogukankefeli.tech/avatars/original/missing.png',\n",
       "  'header': 'https://dogukankefeli.tech/headers/original/missing.png',\n",
       "  'header_static': 'https://dogukankefeli.tech/headers/original/missing.png',\n",
       "  'followers_count': 0,\n",
       "  'following_count': 3,\n",
       "  'statuses_count': 1,\n",
       "  'last_status_at': datetime.datetime(2021, 7, 15, 0, 0),\n",
       "  'emojis': [],\n",
       "  'fields': []}]"
      ]
     },
     "metadata": {},
     "execution_count": 22
    }
   ],
   "metadata": {}
  },
  {
   "cell_type": "code",
   "execution_count": 33,
   "source": [
    "mastodon.toot('this is toot1')"
   ],
   "outputs": [
    {
     "output_type": "execute_result",
     "data": {
      "text/plain": [
       "{'id': 106590896494160517,\n",
       " 'created_at': datetime.datetime(2021, 7, 16, 15, 6, 45, 593000, tzinfo=tzutc()),\n",
       " 'in_reply_to_id': None,\n",
       " 'in_reply_to_account_id': None,\n",
       " 'sensitive': False,\n",
       " 'spoiler_text': '',\n",
       " 'visibility': 'public',\n",
       " 'language': 'en',\n",
       " 'uri': 'https://dogukankefeli.tech/users/dogukan/statuses/106590896494160517',\n",
       " 'url': 'https://dogukankefeli.tech/@dogukan/106590896494160517',\n",
       " 'replies_count': 0,\n",
       " 'reblogs_count': 0,\n",
       " 'favourites_count': 0,\n",
       " 'favourited': False,\n",
       " 'reblogged': False,\n",
       " 'muted': False,\n",
       " 'bookmarked': False,\n",
       " 'pinned': False,\n",
       " 'content': '<p>this is toot1</p>',\n",
       " 'reblog': None,\n",
       " 'application': {'name': 'pytooterapp', 'website': None},\n",
       " 'account': {'id': 106583899443221535,\n",
       "  'username': 'dogukan',\n",
       "  'acct': 'dogukan',\n",
       "  'display_name': '',\n",
       "  'locked': False,\n",
       "  'bot': False,\n",
       "  'discoverable': None,\n",
       "  'group': False,\n",
       "  'created_at': datetime.datetime(2021, 7, 15, 0, 0, tzinfo=tzutc()),\n",
       "  'note': '<p></p>',\n",
       "  'url': 'https://dogukankefeli.tech/@dogukan',\n",
       "  'avatar': 'https://dogukankefeli.tech/avatars/original/missing.png',\n",
       "  'avatar_static': 'https://dogukankefeli.tech/avatars/original/missing.png',\n",
       "  'header': 'https://dogukankefeli.tech/headers/original/missing.png',\n",
       "  'header_static': 'https://dogukankefeli.tech/headers/original/missing.png',\n",
       "  'followers_count': 3,\n",
       "  'following_count': 1,\n",
       "  'statuses_count': 3,\n",
       "  'last_status_at': datetime.datetime(2021, 7, 16, 0, 0),\n",
       "  'emojis': [],\n",
       "  'fields': []},\n",
       " 'media_attachments': [],\n",
       " 'mentions': [],\n",
       " 'tags': [],\n",
       " 'emojis': [],\n",
       " 'card': None,\n",
       " 'poll': None}"
      ]
     },
     "metadata": {},
     "execution_count": 33
    }
   ],
   "metadata": {}
  },
  {
   "cell_type": "code",
   "execution_count": 37,
   "source": [
    "mastodon.ratelimit_remaining"
   ],
   "outputs": [
    {
     "output_type": "execute_result",
     "data": {
      "text/plain": [
       "281"
      ]
     },
     "metadata": {},
     "execution_count": 37
    }
   ],
   "metadata": {}
  },
  {
   "cell_type": "code",
   "execution_count": 6,
   "source": [
    "mastodon.status_post('this is status too')"
   ],
   "outputs": [
    {
     "output_type": "execute_result",
     "data": {
      "text/plain": [
       "{'id': 106591183514034200,\n",
       " 'created_at': datetime.datetime(2021, 7, 16, 16, 19, 45, 163000, tzinfo=tzutc()),\n",
       " 'in_reply_to_id': None,\n",
       " 'in_reply_to_account_id': None,\n",
       " 'sensitive': False,\n",
       " 'spoiler_text': '',\n",
       " 'visibility': 'public',\n",
       " 'language': 'en',\n",
       " 'uri': 'https://dogukankefeli.tech/users/dogukan/statuses/106591183514034200',\n",
       " 'url': 'https://dogukankefeli.tech/@dogukan/106591183514034200',\n",
       " 'replies_count': 0,\n",
       " 'reblogs_count': 0,\n",
       " 'favourites_count': 0,\n",
       " 'favourited': False,\n",
       " 'reblogged': False,\n",
       " 'muted': False,\n",
       " 'bookmarked': False,\n",
       " 'pinned': False,\n",
       " 'content': '<p>this is status too</p>',\n",
       " 'reblog': None,\n",
       " 'application': {'name': 'PURE', 'website': None},\n",
       " 'account': {'id': 106583899443221535,\n",
       "  'username': 'dogukan',\n",
       "  'acct': 'dogukan',\n",
       "  'display_name': '',\n",
       "  'locked': False,\n",
       "  'bot': False,\n",
       "  'discoverable': None,\n",
       "  'group': False,\n",
       "  'created_at': datetime.datetime(2021, 7, 15, 0, 0, tzinfo=tzutc()),\n",
       "  'note': '<p></p>',\n",
       "  'url': 'https://dogukankefeli.tech/@dogukan',\n",
       "  'avatar': 'https://dogukankefeli.tech/avatars/original/missing.png',\n",
       "  'avatar_static': 'https://dogukankefeli.tech/avatars/original/missing.png',\n",
       "  'header': 'https://dogukankefeli.tech/headers/original/missing.png',\n",
       "  'header_static': 'https://dogukankefeli.tech/headers/original/missing.png',\n",
       "  'followers_count': 3,\n",
       "  'following_count': 1,\n",
       "  'statuses_count': 6,\n",
       "  'last_status_at': datetime.datetime(2021, 7, 16, 0, 0),\n",
       "  'emojis': [],\n",
       "  'fields': []},\n",
       " 'media_attachments': [],\n",
       " 'mentions': [],\n",
       " 'tags': [],\n",
       " 'emojis': [],\n",
       " 'card': None,\n",
       " 'poll': None}"
      ]
     },
     "metadata": {},
     "execution_count": 6
    }
   ],
   "metadata": {}
  },
  {
   "cell_type": "code",
   "execution_count": 44,
   "source": [
    "type(js[0])"
   ],
   "outputs": [
    {
     "output_type": "execute_result",
     "data": {
      "text/plain": [
       "mastodon.Mastodon.AttribAccessDict"
      ]
     },
     "metadata": {},
     "execution_count": 44
    }
   ],
   "metadata": {}
  },
  {
   "cell_type": "code",
   "execution_count": 4,
   "source": [
    "mastodon.account_verify_credentials()"
   ],
   "outputs": [
    {
     "output_type": "execute_result",
     "data": {
      "text/plain": [
       "{'id': 106583899443221535,\n",
       " 'username': 'dogukan',\n",
       " 'acct': 'dogukan',\n",
       " 'display_name': '',\n",
       " 'locked': False,\n",
       " 'bot': False,\n",
       " 'discoverable': None,\n",
       " 'group': False,\n",
       " 'created_at': datetime.datetime(2021, 7, 15, 0, 0, tzinfo=tzutc()),\n",
       " 'note': '<p></p>',\n",
       " 'url': 'https://dogukankefeli.tech/@dogukan',\n",
       " 'avatar': 'https://dogukankefeli.tech/avatars/original/missing.png',\n",
       " 'avatar_static': 'https://dogukankefeli.tech/avatars/original/missing.png',\n",
       " 'header': 'https://dogukankefeli.tech/headers/original/missing.png',\n",
       " 'header_static': 'https://dogukankefeli.tech/headers/original/missing.png',\n",
       " 'followers_count': 3,\n",
       " 'following_count': 1,\n",
       " 'statuses_count': 5,\n",
       " 'last_status_at': datetime.datetime(2021, 7, 16, 0, 0),\n",
       " 'source': {'privacy': 'public',\n",
       "  'sensitive': False,\n",
       "  'language': None,\n",
       "  'note': '',\n",
       "  'fields': [],\n",
       "  'follow_requests_count': 0},\n",
       " 'emojis': [],\n",
       " 'fields': []}"
      ]
     },
     "metadata": {},
     "execution_count": 4
    }
   ],
   "metadata": {}
  },
  {
   "cell_type": "code",
   "execution_count": 2,
   "source": [
    "mastodon.ratelimit_reset"
   ],
   "outputs": [
    {
     "output_type": "execute_result",
     "data": {
      "text/plain": [
       "1626451802.8792243"
      ]
     },
     "metadata": {},
     "execution_count": 2
    }
   ],
   "metadata": {}
  },
  {
   "cell_type": "code",
   "execution_count": 7,
   "source": [
    "mastodon.ratelimit_limit"
   ],
   "outputs": [
    {
     "output_type": "execute_result",
     "data": {
      "text/plain": [
       "300"
      ]
     },
     "metadata": {},
     "execution_count": 7
    }
   ],
   "metadata": {}
  },
  {
   "cell_type": "code",
   "execution_count": null,
   "source": [],
   "outputs": [],
   "metadata": {}
  }
 ],
 "metadata": {
  "kernelspec": {
   "display_name": "Python 3",
   "language": "python",
   "name": "python3"
  },
  "language_info": {
   "codemirror_mode": {
    "name": "ipython",
    "version": 3
   },
   "file_extension": ".py",
   "mimetype": "text/x-python",
   "name": "python",
   "nbconvert_exporter": "python",
   "pygments_lexer": "ipython3",
   "version": "3.8.5"
  }
 },
 "nbformat": 4,
 "nbformat_minor": 4
}