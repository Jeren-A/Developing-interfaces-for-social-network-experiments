{
 "cells": [
  {
   "cell_type": "code",
   "execution_count": 2,
   "id": "c2ac609a",
   "metadata": {},
   "outputs": [],
   "source": [
    "from mastodon import Mastodon"
   ]
  },
  {
   "cell_type": "code",
   "execution_count": 4,
   "id": "976fa759",
   "metadata": {},
   "outputs": [
    {
     "data": {
      "text/plain": [
       "('ub43tKSMcAdXBS73UWuL2nQfqceFI7h5EEOFor0pLCw',\n",
       " 'IzVigubjkAfukkAYXjKIcZpKAdo4u6eAomitNuGLfsY')"
      ]
     },
     "execution_count": 4,
     "metadata": {},
     "output_type": "execute_result"
    }
   ],
   "source": [
    "Mastodon.create_app(\n",
    "     'jeren',\n",
    "     api_base_url = 'https://dogukankefeli.tech',\n",
    "     to_file = 'jeren.secret'\n",
    ")"
   ]
  },
  {
   "cell_type": "code",
   "execution_count": 6,
   "id": "60cc80c7",
   "metadata": {},
   "outputs": [
    {
     "data": {
      "text/plain": [
       "'KjIPgNMMeapLeV3LrXZ5wdLwrOR70aqBM2NiJ1yx9K4'"
      ]
     },
     "execution_count": 6,
     "metadata": {},
     "output_type": "execute_result"
    }
   ],
   "source": [
    "mastodon = Mastodon(\n",
    "    client_id = 'jeren.secret',\n",
    "    api_base_url = 'https://dogukankefeli.tech'\n",
    ")\n",
    "mastodon.log_in(\n",
    "    'tihon11156@nhmty.com',\n",
    "    'd5aaSYBE8GTrSmJ',\n",
    "    to_file = 'user_jeren.secret'\n",
    ")"
   ]
  },
  {
   "cell_type": "code",
   "execution_count": 7,
   "id": "3d337b53",
   "metadata": {
    "collapsed": true
   },
   "outputs": [
    {
     "data": {
      "text/plain": [
       "{'id': 106595758698798862,\n",
       " 'created_at': datetime.datetime(2021, 7, 17, 11, 43, 16, 957000, tzinfo=tzutc()),\n",
       " 'in_reply_to_id': None,\n",
       " 'in_reply_to_account_id': None,\n",
       " 'sensitive': False,\n",
       " 'spoiler_text': '',\n",
       " 'visibility': 'public',\n",
       " 'language': 'en',\n",
       " 'uri': 'https://dogukankefeli.tech/users/jeren/statuses/106595758698798862',\n",
       " 'url': 'https://dogukankefeli.tech/@jeren/106595758698798862',\n",
       " 'replies_count': 0,\n",
       " 'reblogs_count': 0,\n",
       " 'favourites_count': 0,\n",
       " 'favourited': False,\n",
       " 'reblogged': False,\n",
       " 'muted': False,\n",
       " 'bookmarked': False,\n",
       " 'pinned': False,\n",
       " 'content': '<p>Tooting from python using <a href=\"https://dogukankefeli.tech/tags/mastodonpy\" class=\"mention hashtag\" rel=\"tag\">#<span>mastodonpy</span></a> !</p>',\n",
       " 'reblog': None,\n",
       " 'application': {'name': 'jeren', 'website': None},\n",
       " 'account': {'id': 106584000819366607,\n",
       "  'username': 'jeren',\n",
       "  'acct': 'jeren',\n",
       "  'display_name': '',\n",
       "  'locked': False,\n",
       "  'bot': False,\n",
       "  'discoverable': False,\n",
       "  'group': False,\n",
       "  'created_at': datetime.datetime(2021, 7, 15, 0, 0, tzinfo=tzutc()),\n",
       "  'note': '<p></p>',\n",
       "  'url': 'https://dogukankefeli.tech/@jeren',\n",
       "  'avatar': 'https://dogukankefeli.tech/avatars/original/missing.png',\n",
       "  'avatar_static': 'https://dogukankefeli.tech/avatars/original/missing.png',\n",
       "  'header': 'https://dogukankefeli.tech/headers/original/missing.png',\n",
       "  'header_static': 'https://dogukankefeli.tech/headers/original/missing.png',\n",
       "  'followers_count': 2,\n",
       "  'following_count': 1,\n",
       "  'statuses_count': 5,\n",
       "  'last_status_at': datetime.datetime(2021, 7, 17, 0, 0),\n",
       "  'emojis': [],\n",
       "  'fields': []},\n",
       " 'media_attachments': [],\n",
       " 'mentions': [],\n",
       " 'tags': [{'name': 'mastodonpy',\n",
       "   'url': 'https://dogukankefeli.tech/tags/mastodonpy'}],\n",
       " 'emojis': [],\n",
       " 'card': None,\n",
       " 'poll': None}"
      ]
     },
     "execution_count": 7,
     "metadata": {},
     "output_type": "execute_result"
    }
   ],
   "source": [
    "mastodon = Mastodon(\n",
    "    access_token = 'user_jeren.secret',\n",
    "    api_base_url = 'https://dogukankefeli.tech'\n",
    ")\n",
    "mastodon.toot('Tooting from python using #mastodonpy !')"
   ]
  },
  {
   "cell_type": "code",
   "execution_count": 8,
   "id": "2cfe6b5f",
   "metadata": {},
   "outputs": [
    {
     "data": {
      "text/plain": [
       "{'uri': 'dogukankefeli.tech',\n",
       " 'title': 'Mastodon',\n",
       " 'short_description': '',\n",
       " 'description': '',\n",
       " 'email': '',\n",
       " 'version': '3.4.1',\n",
       " 'urls': {'streaming_api': 'wss://dogukankefeli.tech'},\n",
       " 'stats': {'user_count': 4, 'status_count': 12, 'domain_count': 0},\n",
       " 'thumbnail': 'https://dogukankefeli.tech/packs/media/images/preview-5df98290371ead9a70bc3cd4733bbfa7.jpg',\n",
       " 'languages': ['en'],\n",
       " 'registrations': True,\n",
       " 'approval_required': False,\n",
       " 'invites_enabled': False,\n",
       " 'contact_account': None,\n",
       " 'rules': [{'id': 1,\n",
       "   'text': 'First rule of this server is that you do not talk about this server'}]}"
      ]
     },
     "execution_count": 8,
     "metadata": {},
     "output_type": "execute_result"
    }
   ],
   "source": [
    "mastodon.instance()"
   ]
  },
  {
   "cell_type": "code",
   "execution_count": 17,
   "id": "07289280",
   "metadata": {},
   "outputs": [],
   "source": [
    "user_id = mastodon.timeline()"
   ]
  },
  {
   "cell_type": "code",
   "execution_count": 21,
   "id": "e3267a11",
   "metadata": {
    "scrolled": true
   },
   "outputs": [
    {
     "data": {
      "text/plain": [
       "'<p>Tooting from python using <a href=\"https://dogukankefeli.tech/tags/mastodonpy\" class=\"mention hashtag\" rel=\"tag\">#<span>mastodonpy</span></a> !</p>'"
      ]
     },
     "execution_count": 21,
     "metadata": {},
     "output_type": "execute_result"
    }
   ],
   "source": [
    "user_id[0]['content']"
   ]
  },
  {
   "cell_type": "code",
   "execution_count": 24,
   "id": "4fae9f78",
   "metadata": {},
   "outputs": [
    {
     "data": {
      "text/plain": [
       "106591183514034200"
      ]
     },
     "execution_count": 24,
     "metadata": {},
     "output_type": "execute_result"
    }
   ],
   "source": [
    "user_id[1]['id']"
   ]
  },
  {
   "cell_type": "code",
   "execution_count": 29,
   "id": "6cf6af8b",
   "metadata": {
    "collapsed": true
   },
   "outputs": [
    {
     "data": {
      "text/plain": [
       "[{'id': 106584296200627353,\n",
       "  'username': 'onur',\n",
       "  'acct': 'onur',\n",
       "  'display_name': 'Onur',\n",
       "  'locked': False,\n",
       "  'bot': False,\n",
       "  'discoverable': False,\n",
       "  'group': False,\n",
       "  'created_at': datetime.datetime(2021, 7, 15, 0, 0, tzinfo=tzutc()),\n",
       "  'note': '<p></p>',\n",
       "  'url': 'https://dogukankefeli.tech/@onur',\n",
       "  'avatar': 'https://dogukankefeli.tech/avatars/original/missing.png',\n",
       "  'avatar_static': 'https://dogukankefeli.tech/avatars/original/missing.png',\n",
       "  'header': 'https://dogukankefeli.tech/headers/original/missing.png',\n",
       "  'header_static': 'https://dogukankefeli.tech/headers/original/missing.png',\n",
       "  'followers_count': 2,\n",
       "  'following_count': 2,\n",
       "  'statuses_count': 1,\n",
       "  'last_status_at': datetime.datetime(2021, 7, 15, 0, 0),\n",
       "  'emojis': [],\n",
       "  'fields': []},\n",
       " {'id': 106544680580142262,\n",
       "  'username': 'admin',\n",
       "  'acct': 'admin',\n",
       "  'display_name': '',\n",
       "  'locked': True,\n",
       "  'bot': False,\n",
       "  'discoverable': False,\n",
       "  'group': False,\n",
       "  'created_at': datetime.datetime(2021, 7, 8, 0, 0, tzinfo=tzutc()),\n",
       "  'note': '<p></p>',\n",
       "  'url': 'https://dogukankefeli.tech/@admin',\n",
       "  'avatar': 'https://dogukankefeli.tech/avatars/original/missing.png',\n",
       "  'avatar_static': 'https://dogukankefeli.tech/avatars/original/missing.png',\n",
       "  'header': 'https://dogukankefeli.tech/headers/original/missing.png',\n",
       "  'header_static': 'https://dogukankefeli.tech/headers/original/missing.png',\n",
       "  'followers_count': 0,\n",
       "  'following_count': 3,\n",
       "  'statuses_count': 1,\n",
       "  'last_status_at': datetime.datetime(2021, 7, 15, 0, 0),\n",
       "  'emojis': [],\n",
       "  'fields': []}]"
      ]
     },
     "execution_count": 29,
     "metadata": {},
     "output_type": "execute_result"
    }
   ],
   "source": [
    "mastodon.account_followers(user_id[0]['account']['id'])"
   ]
  },
  {
   "cell_type": "code",
   "execution_count": 39,
   "id": "9f1ba611",
   "metadata": {},
   "outputs": [],
   "source": [
    "user = user_id[0]['account']['id']"
   ]
  },
  {
   "cell_type": "code",
   "execution_count": 34,
   "id": "60c6d9c2",
   "metadata": {
    "collapsed": true
   },
   "outputs": [
    {
     "data": {
      "text/plain": [
       "[{'id': 106583899443221535,\n",
       "  'username': 'dogukan',\n",
       "  'acct': 'dogukan',\n",
       "  'display_name': '',\n",
       "  'locked': False,\n",
       "  'bot': False,\n",
       "  'discoverable': None,\n",
       "  'group': False,\n",
       "  'created_at': datetime.datetime(2021, 7, 15, 0, 0, tzinfo=tzutc()),\n",
       "  'note': '<p></p>',\n",
       "  'url': 'https://dogukankefeli.tech/@dogukan',\n",
       "  'avatar': 'https://dogukankefeli.tech/avatars/original/missing.png',\n",
       "  'avatar_static': 'https://dogukankefeli.tech/avatars/original/missing.png',\n",
       "  'header': 'https://dogukankefeli.tech/headers/original/missing.png',\n",
       "  'header_static': 'https://dogukankefeli.tech/headers/original/missing.png',\n",
       "  'followers_count': 3,\n",
       "  'following_count': 1,\n",
       "  'statuses_count': 6,\n",
       "  'last_status_at': datetime.datetime(2021, 7, 16, 0, 0),\n",
       "  'emojis': [],\n",
       "  'fields': []},\n",
       " {'id': -99,\n",
       "  'username': 'dogukankefeli.tech',\n",
       "  'acct': 'dogukankefeli.tech',\n",
       "  'display_name': '',\n",
       "  'locked': True,\n",
       "  'bot': True,\n",
       "  'discoverable': None,\n",
       "  'group': False,\n",
       "  'created_at': datetime.datetime(2021, 7, 8, 0, 0, tzinfo=tzutc()),\n",
       "  'note': '<p></p>',\n",
       "  'url': 'https://dogukankefeli.tech/about/more?instance_actor=true',\n",
       "  'avatar': 'https://dogukankefeli.tech/avatars/original/missing.png',\n",
       "  'avatar_static': 'https://dogukankefeli.tech/avatars/original/missing.png',\n",
       "  'header': 'https://dogukankefeli.tech/headers/original/missing.png',\n",
       "  'header_static': 'https://dogukankefeli.tech/headers/original/missing.png',\n",
       "  'followers_count': 0,\n",
       "  'following_count': 0,\n",
       "  'statuses_count': 0,\n",
       "  'last_status_at': None,\n",
       "  'emojis': [],\n",
       "  'fields': []}]"
      ]
     },
     "execution_count": 34,
     "metadata": {},
     "output_type": "execute_result"
    }
   ],
   "source": [
    "mastodon.account_search('dogukan')"
   ]
  },
  {
   "cell_type": "code",
   "execution_count": 37,
   "id": "416d8c02",
   "metadata": {
    "collapsed": true
   },
   "outputs": [
    {
     "data": {
      "text/plain": [
       "{'accounts': [],\n",
       " 'statuses': [],\n",
       " 'hashtags': [{'name': 'mastodonpy',\n",
       "   'url': 'https://dogukankefeli.tech/tags/mastodonpy',\n",
       "   'history': [{'day': datetime.datetime(2021, 7, 17, 0, 0, tzinfo=<UTC>),\n",
       "     'uses': '1',\n",
       "     'accounts': '1'},\n",
       "    {'day': datetime.datetime(2021, 7, 16, 0, 0, tzinfo=<UTC>),\n",
       "     'uses': '1',\n",
       "     'accounts': '1'},\n",
       "    {'day': datetime.datetime(2021, 7, 15, 0, 0, tzinfo=<UTC>),\n",
       "     'uses': '0',\n",
       "     'accounts': '0'},\n",
       "    {'day': datetime.datetime(2021, 7, 14, 0, 0, tzinfo=<UTC>),\n",
       "     'uses': '0',\n",
       "     'accounts': '0'},\n",
       "    {'day': datetime.datetime(2021, 7, 13, 0, 0, tzinfo=<UTC>),\n",
       "     'uses': '0',\n",
       "     'accounts': '0'},\n",
       "    {'day': datetime.datetime(2021, 7, 12, 0, 0, tzinfo=<UTC>),\n",
       "     'uses': '0',\n",
       "     'accounts': '0'},\n",
       "    {'day': datetime.datetime(2021, 7, 11, 0, 0, tzinfo=<UTC>),\n",
       "     'uses': '0',\n",
       "     'accounts': '0'}]}]}"
      ]
     },
     "execution_count": 37,
     "metadata": {},
     "output_type": "execute_result"
    }
   ],
   "source": [
    "mastodon.search('mastodonpy')"
   ]
  },
  {
   "cell_type": "code",
   "execution_count": 41,
   "id": "e945e6b6",
   "metadata": {
    "scrolled": false
   },
   "outputs": [],
   "source": [
    "info = mastodon.account_statuses(user)"
   ]
  },
  {
   "cell_type": "code",
   "execution_count": 42,
   "id": "5bd0e343",
   "metadata": {
    "scrolled": true
   },
   "outputs": [
    {
     "data": {
      "text/plain": [
       "{'id': 106595758698798862,\n",
       " 'created_at': datetime.datetime(2021, 7, 17, 11, 43, 16, 957000, tzinfo=tzutc()),\n",
       " 'in_reply_to_id': None,\n",
       " 'in_reply_to_account_id': None,\n",
       " 'sensitive': False,\n",
       " 'spoiler_text': '',\n",
       " 'visibility': 'public',\n",
       " 'language': 'en',\n",
       " 'uri': 'https://dogukankefeli.tech/users/jeren/statuses/106595758698798862',\n",
       " 'url': 'https://dogukankefeli.tech/@jeren/106595758698798862',\n",
       " 'replies_count': 0,\n",
       " 'reblogs_count': 0,\n",
       " 'favourites_count': 0,\n",
       " 'favourited': False,\n",
       " 'reblogged': False,\n",
       " 'muted': False,\n",
       " 'bookmarked': False,\n",
       " 'pinned': False,\n",
       " 'content': '<p>Tooting from python using <a href=\"https://dogukankefeli.tech/tags/mastodonpy\" class=\"mention hashtag\" rel=\"tag\">#<span>mastodonpy</span></a> !</p>',\n",
       " 'reblog': None,\n",
       " 'application': {'name': 'jeren', 'website': None},\n",
       " 'account': {'id': 106584000819366607,\n",
       "  'username': 'jeren',\n",
       "  'acct': 'jeren',\n",
       "  'display_name': '',\n",
       "  'locked': False,\n",
       "  'bot': False,\n",
       "  'discoverable': False,\n",
       "  'group': False,\n",
       "  'created_at': datetime.datetime(2021, 7, 15, 0, 0, tzinfo=tzutc()),\n",
       "  'note': '<p></p>',\n",
       "  'url': 'https://dogukankefeli.tech/@jeren',\n",
       "  'avatar': 'https://dogukankefeli.tech/avatars/original/missing.png',\n",
       "  'avatar_static': 'https://dogukankefeli.tech/avatars/original/missing.png',\n",
       "  'header': 'https://dogukankefeli.tech/headers/original/missing.png',\n",
       "  'header_static': 'https://dogukankefeli.tech/headers/original/missing.png',\n",
       "  'followers_count': 2,\n",
       "  'following_count': 1,\n",
       "  'statuses_count': 5,\n",
       "  'last_status_at': datetime.datetime(2021, 7, 17, 0, 0),\n",
       "  'emojis': [],\n",
       "  'fields': []},\n",
       " 'media_attachments': [],\n",
       " 'mentions': [],\n",
       " 'tags': [{'name': 'mastodonpy',\n",
       "   'url': 'https://dogukankefeli.tech/tags/mastodonpy'}],\n",
       " 'emojis': [],\n",
       " 'card': None,\n",
       " 'poll': None}"
      ]
     },
     "execution_count": 42,
     "metadata": {},
     "output_type": "execute_result"
    }
   ],
   "source": [
    "info[0]"
   ]
  },
  {
   "cell_type": "code",
   "execution_count": 46,
   "id": "10b07ff8",
   "metadata": {},
   "outputs": [],
   "source": [
    "import pandas as pd"
   ]
  },
  {
   "cell_type": "code",
   "execution_count": 47,
   "id": "4cfe4739",
   "metadata": {},
   "outputs": [],
   "source": [
    "user_ids = []\n",
    "usernames = []\n",
    "toot_ids = []\n",
    "toot_time = []\n",
    "for toot in info:\n",
    "    user_ids.append(toot['account']['id'])\n",
    "    usernames.append(toot['account']['username'])\n",
    "    toot_ids.append(toot['id'])\n",
    "    toot_time.append(toot['created_at'])\n",
    "    \n",
    "data = {}\n",
    "data['user_ids'] = user_ids\n",
    "data['usernames'] = usernames\n",
    "data['toot_ids'] = toot_ids\n",
    "data['toot_time' = toot_time\n",
    "    "
   ]
  },
  {
   "cell_type": "code",
   "execution_count": null,
   "id": "7505ddf5",
   "metadata": {},
   "outputs": [],
   "source": [
    "df = pd.DataFrame(data)\n"
   ]
  },
  {
   "cell_type": "code",
   "execution_count": null,
   "id": "23ce69af",
   "metadata": {},
   "outputs": [],
   "source": []
  }
 ],
 "metadata": {
  "kernelspec": {
   "display_name": "Python 3",
   "language": "python",
   "name": "python3"
  },
  "language_info": {
   "codemirror_mode": {
    "name": "ipython",
    "version": 3
   },
   "file_extension": ".py",
   "mimetype": "text/x-python",
   "name": "python",
   "nbconvert_exporter": "python",
   "pygments_lexer": "ipython3",
   "version": "3.9.1"
  }
 },
 "nbformat": 4,
 "nbformat_minor": 5
}
