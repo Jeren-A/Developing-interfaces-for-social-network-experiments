{
 "cells": [
  {
   "cell_type": "code",
   "execution_count": 3,
   "source": [
    "from mastodon import Mastodon\r\n"
   ],
   "outputs": [],
   "metadata": {}
  },
  {
   "cell_type": "code",
   "execution_count": 15,
   "source": [
    "Mastodon.create_app(\r\n",
    "     'PURE_bot',\r\n",
    "     api_base_url = 'https://dogukankefeli.tech',\r\n",
    "     to_file = 'bot_client.secret'\r\n",
    ")"
   ],
   "outputs": [
    {
     "output_type": "execute_result",
     "data": {
      "text/plain": [
       "('oPYAnm1f9wZ0wWD7wvGyOabvjzjIxiDewmaitgzx4fY',\n",
       " '2WomngNffmVGjze7S_S7Xueny_M_ZQh0Ndu9_ylxU1I')"
      ]
     },
     "metadata": {},
     "execution_count": 15
    }
   ],
   "metadata": {}
  },
  {
   "cell_type": "code",
   "execution_count": 18,
   "source": [
    "mastodon = Mastodon(\r\n",
    "    client_id = 'bot_client.secret',\r\n",
    "    api_base_url = 'https://dogukankefeli.tech'\r\n",
    ")\r\n",
    "mastodon.log_in(\r\n",
    "    'ovarol2005@gmail.com',\r\n",
    "    '5ac31ab18521f4c18673d4e1a5319905',\r\n",
    "    to_file = 'onurva.secret'\r\n",
    ")"
   ],
   "outputs": [
    {
     "output_type": "execute_result",
     "data": {
      "text/plain": [
       "'UpzNywcaR_zv-35VVPHoOMBGzpcWECVMGK_SwgpBYko'"
      ]
     },
     "metadata": {},
     "execution_count": 18
    }
   ],
   "metadata": {}
  },
  {
   "cell_type": "code",
   "execution_count": 19,
   "source": [
    "mastodon = Mastodon(\r\n",
    "    access_token = 'user_jeren.secret',\r\n",
    "    api_base_url = 'https://dogukankefeli.tech'\r\n",
    ")\r\n",
    "#mastodon.toot('Tooting from python using #mastodonpy !')"
   ],
   "outputs": [],
   "metadata": {}
  },
  {
   "cell_type": "code",
   "execution_count": 4,
   "source": [
<<<<<<< HEAD
    "import pandas as pd\n",
    "import numpy as np\n",
    "import matplotlib.pyplot as plt\n"
   ]
=======
    "import pandas as pd\r\n",
    "import numpy as np\r\n",
    "import matplotlib.pyplot as plt"
   ],
   "outputs": [],
   "metadata": {}
>>>>>>> 0e88e4ca1c4f45e4ac491f010fab1de46f2eadf4
  },
  {
   "cell_type": "code",
   "execution_count": 10,
   "source": [
    "timeline = mastodon.timeline()\r\n",
    "user = []\r\n",
    "for i in range(len(timeline)):\r\n",
    "    user.append(timeline[i]['account']['id'])\r\n",
    "\r\n",
    "unique = np.unique(user)\r\n",
    "\r\n"
   ],
   "outputs": [],
   "metadata": {}
  },
  {
   "cell_type": "code",
   "execution_count": 2,
   "source": [
    "hey"
   ],
   "outputs": [
    {
     "output_type": "error",
     "ename": "NameError",
     "evalue": "name 'hey' is not defined",
     "traceback": [
      "\u001b[1;31m---------------------------------------------------------------------------\u001b[0m",
      "\u001b[1;31mNameError\u001b[0m                                 Traceback (most recent call last)",
      "\u001b[1;32m<ipython-input-2-7aea02175315>\u001b[0m in \u001b[0;36m<module>\u001b[1;34m\u001b[0m\n\u001b[1;32m----> 1\u001b[1;33m \u001b[0mhey\u001b[0m\u001b[1;33m\u001b[0m\u001b[1;33m\u001b[0m\u001b[0m\n\u001b[0m",
      "\u001b[1;31mNameError\u001b[0m: name 'hey' is not defined"
     ]
    }
   ],
   "metadata": {}
  },
  {
   "cell_type": "code",
   "execution_count": 12,
   "source": [
    "user_ids = []\r\n",
    "usernames = []\r\n",
    "toot_ids = []\r\n",
    "toot_time = []\r\n",
    "toot_favourites_count = []\r\n",
    "for user in unique:    \r\n",
    "    statuses = mastodon.account_statuses(user)\r\n",
    "    for toot in statuses:\r\n",
    "        user_ids.append(toot['account']['id'])\r\n",
    "        usernames.append(toot['account']['username'])\r\n",
    "        toot_ids.append(toot['id'])\r\n",
    "        toot_time.append(toot['created_at'])\r\n",
    "        toot_favourites_count.append(toot['favourites_count'])\r\n",
    "\r\n",
    "data = {}\r\n",
    "data['user_ids'] = user_ids\r\n",
    "data['usernames'] = usernames\r\n",
    "data['toot_ids'] = toot_ids\r\n",
    "data['toot_time'] = toot_time\r\n",
    "data['favourites_count'] = toot_favourites_count\r\n",
    "    "
   ],
   "outputs": [],
   "metadata": {}
  },
  {
   "cell_type": "code",
   "execution_count": 13,
   "source": [
    "df = pd.DataFrame(data)\r\n",
    "df"
   ],
   "outputs": [
    {
     "output_type": "execute_result",
     "data": {
      "text/plain": [
       "              user_ids usernames            toot_ids  \\\n",
       "0   106544680580142262     admin  106595991230042839   \n",
       "1   106544680580142262     admin  106584348846795635   \n",
       "2   106583899443221535   dogukan  106591183514034200   \n",
       "3   106583899443221535   dogukan  106590916639855387   \n",
       "4   106583899443221535   dogukan  106590912413340027   \n",
       "5   106583899443221535   dogukan  106590896494160517   \n",
       "6   106583899443221535   dogukan  106590789265890515   \n",
       "7   106583899443221535   dogukan  106583972832479582   \n",
       "8   106584000819366607     jeren  106597394723331796   \n",
       "9   106584000819366607     jeren  106595993920336795   \n",
       "10  106584000819366607     jeren  106595993389358663   \n",
       "11  106584000819366607     jeren  106595758698798862   \n",
       "12  106584000819366607     jeren  106584222491271716   \n",
       "13  106584000819366607     jeren  106584020131050146   \n",
       "14  106584000819366607     jeren  106584019284380809   \n",
       "15  106584000819366607     jeren  106584013926630066   \n",
       "\n",
       "                          toot_time  favourites_count  \n",
       "0  2021-07-17 12:42:25.095000+00:00                 1  \n",
       "1  2021-07-15 11:21:36.426000+00:00                 0  \n",
       "2  2021-07-16 16:19:45.163000+00:00                 0  \n",
       "3  2021-07-16 15:11:52.987000+00:00                 1  \n",
       "4  2021-07-16 15:10:48.495000+00:00                 1  \n",
       "5  2021-07-16 15:06:45.593000+00:00                 1  \n",
       "6  2021-07-16 14:39:29.425000+00:00                 1  \n",
       "7  2021-07-15 09:45:58.942000+00:00                 0  \n",
       "8  2021-07-17 18:39:20.697000+00:00                 0  \n",
       "9  2021-07-17 12:43:06.139000+00:00                 0  \n",
       "10 2021-07-17 12:42:58.042000+00:00                 0  \n",
       "11 2021-07-17 11:43:16.957000+00:00                 0  \n",
       "12 2021-07-15 10:49:28.385000+00:00                 0  \n",
       "13 2021-07-15 09:58:00.617000+00:00                 0  \n",
       "14 2021-07-15 09:57:47.693000+00:00                 0  \n",
       "15 2021-07-15 09:56:25.947000+00:00                 0  "
      ],
      "text/html": [
       "<div>\n",
       "<style scoped>\n",
       "    .dataframe tbody tr th:only-of-type {\n",
       "        vertical-align: middle;\n",
       "    }\n",
       "\n",
       "    .dataframe tbody tr th {\n",
       "        vertical-align: top;\n",
       "    }\n",
       "\n",
       "    .dataframe thead th {\n",
       "        text-align: right;\n",
       "    }\n",
       "</style>\n",
       "<table border=\"1\" class=\"dataframe\">\n",
       "  <thead>\n",
       "    <tr style=\"text-align: right;\">\n",
       "      <th></th>\n",
       "      <th>user_ids</th>\n",
       "      <th>usernames</th>\n",
       "      <th>toot_ids</th>\n",
       "      <th>toot_time</th>\n",
       "      <th>favourites_count</th>\n",
       "    </tr>\n",
       "  </thead>\n",
       "  <tbody>\n",
       "    <tr>\n",
       "      <th>0</th>\n",
       "      <td>106544680580142262</td>\n",
       "      <td>admin</td>\n",
       "      <td>106595991230042839</td>\n",
       "      <td>2021-07-17 12:42:25.095000+00:00</td>\n",
       "      <td>1</td>\n",
       "    </tr>\n",
       "    <tr>\n",
       "      <th>1</th>\n",
       "      <td>106544680580142262</td>\n",
       "      <td>admin</td>\n",
       "      <td>106584348846795635</td>\n",
       "      <td>2021-07-15 11:21:36.426000+00:00</td>\n",
       "      <td>0</td>\n",
       "    </tr>\n",
       "    <tr>\n",
       "      <th>2</th>\n",
       "      <td>106583899443221535</td>\n",
       "      <td>dogukan</td>\n",
       "      <td>106591183514034200</td>\n",
       "      <td>2021-07-16 16:19:45.163000+00:00</td>\n",
       "      <td>0</td>\n",
       "    </tr>\n",
       "    <tr>\n",
       "      <th>3</th>\n",
       "      <td>106583899443221535</td>\n",
       "      <td>dogukan</td>\n",
       "      <td>106590916639855387</td>\n",
       "      <td>2021-07-16 15:11:52.987000+00:00</td>\n",
       "      <td>1</td>\n",
       "    </tr>\n",
       "    <tr>\n",
       "      <th>4</th>\n",
       "      <td>106583899443221535</td>\n",
       "      <td>dogukan</td>\n",
       "      <td>106590912413340027</td>\n",
       "      <td>2021-07-16 15:10:48.495000+00:00</td>\n",
       "      <td>1</td>\n",
       "    </tr>\n",
       "    <tr>\n",
       "      <th>5</th>\n",
       "      <td>106583899443221535</td>\n",
       "      <td>dogukan</td>\n",
       "      <td>106590896494160517</td>\n",
       "      <td>2021-07-16 15:06:45.593000+00:00</td>\n",
       "      <td>1</td>\n",
       "    </tr>\n",
       "    <tr>\n",
       "      <th>6</th>\n",
       "      <td>106583899443221535</td>\n",
       "      <td>dogukan</td>\n",
       "      <td>106590789265890515</td>\n",
       "      <td>2021-07-16 14:39:29.425000+00:00</td>\n",
       "      <td>1</td>\n",
       "    </tr>\n",
       "    <tr>\n",
       "      <th>7</th>\n",
       "      <td>106583899443221535</td>\n",
       "      <td>dogukan</td>\n",
       "      <td>106583972832479582</td>\n",
       "      <td>2021-07-15 09:45:58.942000+00:00</td>\n",
       "      <td>0</td>\n",
       "    </tr>\n",
       "    <tr>\n",
       "      <th>8</th>\n",
       "      <td>106584000819366607</td>\n",
       "      <td>jeren</td>\n",
       "      <td>106597394723331796</td>\n",
       "      <td>2021-07-17 18:39:20.697000+00:00</td>\n",
       "      <td>0</td>\n",
       "    </tr>\n",
       "    <tr>\n",
       "      <th>9</th>\n",
       "      <td>106584000819366607</td>\n",
       "      <td>jeren</td>\n",
       "      <td>106595993920336795</td>\n",
       "      <td>2021-07-17 12:43:06.139000+00:00</td>\n",
       "      <td>0</td>\n",
       "    </tr>\n",
       "    <tr>\n",
       "      <th>10</th>\n",
       "      <td>106584000819366607</td>\n",
       "      <td>jeren</td>\n",
       "      <td>106595993389358663</td>\n",
       "      <td>2021-07-17 12:42:58.042000+00:00</td>\n",
       "      <td>0</td>\n",
       "    </tr>\n",
       "    <tr>\n",
       "      <th>11</th>\n",
       "      <td>106584000819366607</td>\n",
       "      <td>jeren</td>\n",
       "      <td>106595758698798862</td>\n",
       "      <td>2021-07-17 11:43:16.957000+00:00</td>\n",
       "      <td>0</td>\n",
       "    </tr>\n",
       "    <tr>\n",
       "      <th>12</th>\n",
       "      <td>106584000819366607</td>\n",
       "      <td>jeren</td>\n",
       "      <td>106584222491271716</td>\n",
       "      <td>2021-07-15 10:49:28.385000+00:00</td>\n",
       "      <td>0</td>\n",
       "    </tr>\n",
       "    <tr>\n",
       "      <th>13</th>\n",
       "      <td>106584000819366607</td>\n",
       "      <td>jeren</td>\n",
       "      <td>106584020131050146</td>\n",
       "      <td>2021-07-15 09:58:00.617000+00:00</td>\n",
       "      <td>0</td>\n",
       "    </tr>\n",
       "    <tr>\n",
       "      <th>14</th>\n",
       "      <td>106584000819366607</td>\n",
       "      <td>jeren</td>\n",
       "      <td>106584019284380809</td>\n",
       "      <td>2021-07-15 09:57:47.693000+00:00</td>\n",
       "      <td>0</td>\n",
       "    </tr>\n",
       "    <tr>\n",
       "      <th>15</th>\n",
       "      <td>106584000819366607</td>\n",
       "      <td>jeren</td>\n",
       "      <td>106584013926630066</td>\n",
       "      <td>2021-07-15 09:56:25.947000+00:00</td>\n",
       "      <td>0</td>\n",
       "    </tr>\n",
       "  </tbody>\n",
       "</table>\n",
       "</div>"
      ]
     },
     "metadata": {},
     "execution_count": 13
    }
   ],
   "metadata": {}
  },
  {
   "cell_type": "code",
   "execution_count": 16,
   "source": [
    "df.info()\r\n"
   ],
   "outputs": [
    {
     "output_type": "stream",
     "name": "stdout",
     "text": [
      "<class 'pandas.core.frame.DataFrame'>\n",
      "RangeIndex: 15 entries, 0 to 14\n",
      "Data columns (total 4 columns):\n",
      " #   Column     Non-Null Count  Dtype                  \n",
      "---  ------     --------------  -----                  \n",
      " 0   user_ids   15 non-null     int64                  \n",
      " 1   usernames  15 non-null     object                 \n",
      " 2   toot_ids   15 non-null     int64                  \n",
      " 3   toot_time  15 non-null     datetime64[ns, tzutc()]\n",
      "dtypes: datetime64[ns, tzutc()](1), int64(2), object(1)\n",
      "memory usage: 608.0+ bytes\n"
     ]
    }
   ],
   "metadata": {}
  },
  {
   "cell_type": "code",
   "execution_count": 19,
   "source": [
    "df.sort_values(by=['toot_time'], ignore_index=True, inplace = True)"
   ],
   "outputs": [],
   "metadata": {}
  },
  {
   "cell_type": "code",
   "execution_count": 29,
   "source": [
    "df.loc[df['usernames']=='dogukan'].plot(x = 'toot_time', y = 'toot_ids', kind = 'scatter')\r\n"
   ],
   "outputs": [
    {
     "output_type": "execute_result",
     "data": {
      "text/plain": [
       "<AxesSubplot:xlabel='toot_time', ylabel='toot_ids'>"
      ]
     },
     "metadata": {},
     "execution_count": 29
    },
    {
     "output_type": "display_data",
     "data": {
      "text/plain": [
       "<Figure size 432x288 with 1 Axes>"
      ],
      "image/png": "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"
     },
     "metadata": {
      "needs_background": "light"
     }
    }
   ],
   "metadata": {}
  }
 ],
 "metadata": {
  "kernelspec": {
   "name": "python3",
   "display_name": "Python 3.8.5 64-bit ('base': conda)"
  },
  "language_info": {
   "codemirror_mode": {
    "name": "ipython",
    "version": 3
   },
   "file_extension": ".py",
   "mimetype": "text/x-python",
   "name": "python",
   "nbconvert_exporter": "python",
   "pygments_lexer": "ipython3",
   "version": "3.8.5"
  },
  "interpreter": {
   "hash": "b3ba2566441a7c06988d0923437866b63cedc61552a5af99d1f4fb67d367b25f"
  }
 },
 "nbformat": 4,
 "nbformat_minor": 5
}